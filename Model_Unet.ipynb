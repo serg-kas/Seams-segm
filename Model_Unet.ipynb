{
  "nbformat": 4,
  "nbformat_minor": 0,
  "metadata": {
    "colab": {
      "name": "Model Unet",
      "provenance": [],
      "collapsed_sections": [
        "mbHYX73XtLhF"
      ],
      "machine_shape": "hm",
      "include_colab_link": true
    },
    "kernelspec": {
      "name": "python3",
      "display_name": "Python 3"
    },
    "gpuClass": "standard"
  },
  "cells": [
    {
      "cell_type": "markdown",
      "metadata": {
        "id": "view-in-github",
        "colab_type": "text"
      },
      "source": [
        "<a href=\"https://colab.research.google.com/github/serg-kas/Seams-segm/blob/master/Model_Unet.ipynb\" target=\"_parent\"><img src=\"https://colab.research.google.com/assets/colab-badge.svg\" alt=\"Open In Colab\"/></a>"
      ]
    },
    {
      "cell_type": "markdown",
      "source": [
        "# Unet"
      ],
      "metadata": {
        "id": "jvrnNz7FY00E"
      }
    },
    {
      "cell_type": "code",
      "source": [
        "!git clone https://github.com/serg-kas/Seams-segm\n",
        "%cd Seams-segm\n",
        "!ls"
      ],
      "metadata": {
        "colab": {
          "base_uri": "https://localhost:8080/"
        },
        "id": "z8zjVFLCGJ8n",
        "outputId": "94492934-c12a-465c-aba5-4a19a01e3ec1"
      },
      "execution_count": 1,
      "outputs": [
        {
          "output_type": "stream",
          "name": "stdout",
          "text": [
            "Cloning into 'Seams-segm'...\n",
            "remote: Enumerating objects: 474, done.\u001b[K\n",
            "remote: Counting objects: 100% (93/93), done.\u001b[K\n",
            "remote: Compressing objects: 100% (91/91), done.\u001b[K\n",
            "remote: Total 474 (delta 2), reused 93 (delta 2), pack-reused 381\u001b[K\n",
            "Receiving objects: 100% (474/474), 120.50 MiB | 50.72 MiB/s, done.\n",
            "Resolving deltas: 100% (57/57), done.\n",
            "/content/Seams-segm\n",
            "imgs  masks  prep_data.py  README.md  utils.py\n"
          ]
        }
      ]
    },
    {
      "cell_type": "code",
      "metadata": {
        "id": "psPMK8Iyr3Bf"
      },
      "source": [
        "# Импорт библиотек\n",
        "import numpy as np\n",
        "import math\n",
        "import cv2 as cv\n",
        "import random\n",
        "import os\n",
        "import time\n",
        "#\n",
        "import utils as u \n",
        "#\n",
        "from tensorflow.keras.models import Sequential\n",
        "from tensorflow.keras.models import Model \n",
        "from tensorflow.keras.layers import Dense, Conv2D, MaxPooling2D, Flatten, Dropout, BatchNormalization\n",
        "from tensorflow.keras.layers import Input, Conv2DTranspose, concatenate, Activation, MaxPooling2D, Conv2D\n",
        "from tensorflow.keras.layers import Reshape, GlobalAveragePooling2D, UpSampling2D, AveragePooling2D\n",
        "from tensorflow.keras.optimizers import Adam, RMSprop, SGD\n",
        "from keras.callbacks import ReduceLROnPlateau, EarlyStopping \n",
        "from tensorflow.keras.utils import Sequence\n",
        "from tensorflow.keras.models import load_model, save_model\n",
        "from tensorflow.keras.applications.vgg16 import VGG16\n",
        "#\n",
        "import albumentations as A\n",
        "#\n",
        "from google.colab.patches import cv2_imshow\n",
        "import matplotlib.pyplot as plt\n",
        "%matplotlib inline"
      ],
      "execution_count": 2,
      "outputs": []
    },
    {
      "cell_type": "code",
      "source": [
        "# Пути к данным\n",
        "images_path = \"/content/Seams-segm/imgs\"\n",
        "anns_path = \"/content/Seams-segm/masks\""
      ],
      "metadata": {
        "id": "3sy2PaIOZEZD"
      },
      "execution_count": 3,
      "outputs": []
    },
    {
      "cell_type": "code",
      "source": [
        "# Создадим списки файлов с путями к ним\n",
        "img_names= [ os.path.join(images_path, file_name) for file_name in os.listdir(images_path)]\n",
        "ann_names = [ os.path.join(anns_path, file_name) for file_name in os.listdir(anns_path)]"
      ],
      "metadata": {
        "id": "GrMf4CkMeNBq"
      },
      "execution_count": 4,
      "outputs": []
    },
    {
      "cell_type": "code",
      "source": [
        "# Соберем информацию о классах разметки сегментации\n",
        "ann_set = np.array([])\n",
        "cur_time = time.time()\n",
        "for file_name  in ann_names:\n",
        "    ann = cv.imread(file_name,0)\n",
        "    # print(ann.shape)\n",
        "    curr_set = np.unique(ann)\n",
        "    ann_set = np.union1d(ann_set, curr_set)\n",
        "    \n",
        "print(\"Получили классы разметки: {}\".format(ann_set))\n",
        "print(\"Время выполнения: \", round(time.time() - cur_time, 2), 'c', sep='')"
      ],
      "metadata": {
        "colab": {
          "base_uri": "https://localhost:8080/"
        },
        "id": "Yu7rZl-2eih_",
        "outputId": "7f55fa55-bec8-47b8-f5a7-24b316bf9e1f"
      },
      "execution_count": 7,
      "outputs": [
        {
          "output_type": "stream",
          "name": "stdout",
          "text": [
            "Получили классы разметки: [  0. 255.]\n",
            "Время выполнения: 0.82c\n"
          ]
        }
      ]
    },
    {
      "cell_type": "code",
      "source": [
        "# Функция  - генератор данных\n",
        "def generate_data(batchsize):\n",
        "    x_data = []\n",
        "    y_data = []\n",
        "    batchcount = 0\n",
        "    while True:\n",
        "        # Получаем случайное показание прибора\n",
        "        curr_img, curr_r = u.get_random_measurement(img, L, angle_0, angle_1)\n",
        "        #\n",
        "        curr_img = cv.resize(curr_img, (224, 224), cv.INTER_LINEAR)\n",
        "        curr_img = curr_img / 255.\n",
        "        # \n",
        "        curr_r_class = int(curr_r * 60)\n",
        "        curr_r_ohe = np.zeros((60),dtype = np.uint8)\n",
        "        curr_r_ohe[curr_r_class] = 1\n",
        "\n",
        "        x_data.append(curr_img)\n",
        "        y_data.append(curr_r_ohe)\n",
        "        batchcount += 1\n",
        "        if batchcount >= batchsize:\n",
        "            X = np.array(x_data, dtype='float32')\n",
        "            y = np.array(y_data, dtype='float32')\n",
        "            # print(X.shape, y.shape)\n",
        "            yield (X, y)\n",
        "            x_data = []\n",
        "            y_data = []\n",
        "            batchcount = 0\n"
      ],
      "metadata": {
        "id": "KwOQfPxFOvxr"
      },
      "execution_count": null,
      "outputs": []
    },
    {
      "cell_type": "markdown",
      "source": [
        "### CNN"
      ],
      "metadata": {
        "id": "mbHYX73XtLhF"
      }
    },
    {
      "cell_type": "code",
      "source": [
        "# Функция создания модели\n",
        "def get_model(img_height, img_width):\n",
        "  model = Sequential()\n",
        "  #Первый сверточный слой\n",
        "  model.add(Conv2D(128, (3, 3), padding='same', activation='relu', input_shape=(img_height, img_width, 3)))\n",
        "  model.add(BatchNormalization())\n",
        "\n",
        "  # Второй сверточный слой\n",
        "  model.add(Conv2D(128, (3, 3), padding='same', activation='relu'))\n",
        "  model.add(BatchNormalization())\n",
        "  model.add(MaxPooling2D(pool_size=(3, 3)))\n",
        "  model.add(Dropout(0.2))\n",
        "\n",
        "  # Третий сверточный слой\n",
        "  model.add(Conv2D(256, (3, 3), padding='same', activation='relu'))\n",
        "  model.add(BatchNormalization())\n",
        "  #model.add(Dropout(0.2))   \n",
        "\n",
        "  # Четвертый сверточный слой\n",
        "  model.add(Conv2D(256, (3, 3), padding='same', activation='relu'))\n",
        "  model.add(BatchNormalization())\n",
        "  model.add(MaxPooling2D(pool_size=(3, 3)))\n",
        "  model.add(Dropout(0.2)) \n",
        "\n",
        "  # Пятый сверточный слой\n",
        "  model.add(Conv2D(512, (3, 3), padding='same', activation='relu'))\n",
        "  #model.add(Dropout(0.2))\n",
        "  model.add(BatchNormalization())\n",
        "\n",
        "  # Шестой сверточный слой\n",
        "  model.add(Conv2D(512, (3, 3), padding='same', activation='relu'))\n",
        "  model.add(BatchNormalization())\n",
        "  model.add(MaxPooling2D(pool_size=(2, 2)))\n",
        "\n",
        "  # Слой регуляризации Dropout\n",
        "  model.add(Dropout(0.2))  \n",
        "\n",
        "  # Слой преобразования двумерных данных в одномерные \n",
        "  model.add(Flatten())\n",
        "  # Полносвязный слой\n",
        "  model.add(Dense(1024, activation='relu'))\n",
        "  model.add(Dropout(0.2))\n",
        "\n",
        "  # Полносвязный слой\n",
        "  model.add(Dense(1024, activation='relu'))  \n",
        "  model.add(Dropout(0.2))\n",
        "\n",
        "  # Выходной слой\n",
        "  model.add(Dense(60, activation='softmax'))\n",
        " \n",
        "  # model.compile(loss='categorical_crossentropy', optimizer=RMSprop(learning_rate=0.001), metrics=['accuracy'])\n",
        "  model.compile(loss='categorical_crossentropy', optimizer=Adam(learning_rate=0.001), metrics=['accuracy'])\n",
        "\n",
        "  return model\n"
      ],
      "metadata": {
        "id": "efj95lMlMcM8"
      },
      "execution_count": null,
      "outputs": []
    },
    {
      "cell_type": "code",
      "source": [
        "    # Создаем модель\n",
        "    model = get_model(img_example.shape[0], img_example.shape[1])\n",
        "    # Напечатаем архитектуру\n",
        "    model.summary()"
      ],
      "metadata": {
        "id": "RQvCVkhKd9Ya",
        "colab": {
          "base_uri": "https://localhost:8080/"
        },
        "outputId": "10a2bfd8-f881-4ed6-a0eb-01bd4981cbbb"
      },
      "execution_count": null,
      "outputs": [
        {
          "output_type": "stream",
          "name": "stdout",
          "text": [
            "Model: \"sequential\"\n",
            "_________________________________________________________________\n",
            " Layer (type)                Output Shape              Param #   \n",
            "=================================================================\n",
            " conv2d (Conv2D)             (None, 175, 511, 128)     3584      \n",
            "                                                                 \n",
            " batch_normalization (BatchN  (None, 175, 511, 128)    512       \n",
            " ormalization)                                                   \n",
            "                                                                 \n",
            " conv2d_1 (Conv2D)           (None, 175, 511, 128)     147584    \n",
            "                                                                 \n",
            " batch_normalization_1 (Batc  (None, 175, 511, 128)    512       \n",
            " hNormalization)                                                 \n",
            "                                                                 \n",
            " max_pooling2d (MaxPooling2D  (None, 58, 170, 128)     0         \n",
            " )                                                               \n",
            "                                                                 \n",
            " dropout (Dropout)           (None, 58, 170, 128)      0         \n",
            "                                                                 \n",
            " conv2d_2 (Conv2D)           (None, 58, 170, 256)      295168    \n",
            "                                                                 \n",
            " batch_normalization_2 (Batc  (None, 58, 170, 256)     1024      \n",
            " hNormalization)                                                 \n",
            "                                                                 \n",
            " conv2d_3 (Conv2D)           (None, 58, 170, 256)      590080    \n",
            "                                                                 \n",
            " batch_normalization_3 (Batc  (None, 58, 170, 256)     1024      \n",
            " hNormalization)                                                 \n",
            "                                                                 \n",
            " max_pooling2d_1 (MaxPooling  (None, 19, 56, 256)      0         \n",
            " 2D)                                                             \n",
            "                                                                 \n",
            " dropout_1 (Dropout)         (None, 19, 56, 256)       0         \n",
            "                                                                 \n",
            " conv2d_4 (Conv2D)           (None, 19, 56, 512)       1180160   \n",
            "                                                                 \n",
            " batch_normalization_4 (Batc  (None, 19, 56, 512)      2048      \n",
            " hNormalization)                                                 \n",
            "                                                                 \n",
            " conv2d_5 (Conv2D)           (None, 19, 56, 512)       2359808   \n",
            "                                                                 \n",
            " batch_normalization_5 (Batc  (None, 19, 56, 512)      2048      \n",
            " hNormalization)                                                 \n",
            "                                                                 \n",
            " max_pooling2d_2 (MaxPooling  (None, 9, 28, 512)       0         \n",
            " 2D)                                                             \n",
            "                                                                 \n",
            " dropout_2 (Dropout)         (None, 9, 28, 512)        0         \n",
            "                                                                 \n",
            " flatten (Flatten)           (None, 129024)            0         \n",
            "                                                                 \n",
            " dense (Dense)               (None, 1024)              132121600 \n",
            "                                                                 \n",
            " dropout_3 (Dropout)         (None, 1024)              0         \n",
            "                                                                 \n",
            " dense_1 (Dense)             (None, 1024)              1049600   \n",
            "                                                                 \n",
            " dropout_4 (Dropout)         (None, 1024)              0         \n",
            "                                                                 \n",
            " dense_2 (Dense)             (None, 60)                61500     \n",
            "                                                                 \n",
            "=================================================================\n",
            "Total params: 137,816,252\n",
            "Trainable params: 137,812,668\n",
            "Non-trainable params: 3,584\n",
            "_________________________________________________________________\n"
          ]
        }
      ]
    },
    {
      "cell_type": "markdown",
      "source": [
        "### VGG16"
      ],
      "metadata": {
        "id": "gpiUSWfdAMHU"
      }
    },
    {
      "cell_type": "code",
      "source": [
        "# скачиваем модель\n",
        "# base_model = VGG16(include_top=False, weights='imagenet', input_shape=(224, 224, 3))\n",
        "base_model = VGG16(include_top=True, weights='imagenet', input_shape=(224, 224, 3))"
      ],
      "metadata": {
        "id": "xDM7NeOA5Gyc"
      },
      "execution_count": null,
      "outputs": []
    },
    {
      "cell_type": "code",
      "source": [
        "x = Dense(60, activation='softmax', name='predictions')(base_model.layers[-2].output)\n",
        "\n",
        "#Then create the corresponding model \n",
        "model = Model(inputs=base_model.input, outputs=x)\n",
        "model.summary()"
      ],
      "metadata": {
        "id": "bbFRtnFgil4M"
      },
      "execution_count": null,
      "outputs": []
    },
    {
      "cell_type": "code",
      "source": [
        "# Замораживаем слои не подлежащие обучению\n",
        "for layer in model.layers[:19]:\n",
        "    layer.trainable = False"
      ],
      "metadata": {
        "id": "c3juPJ5E5_Vs"
      },
      "execution_count": null,
      "outputs": []
    },
    {
      "cell_type": "code",
      "source": [
        "# Посмотрим список слоёв\n",
        "for i, layer in enumerate(model.layers):\n",
        "    print(i, layer.name, layer.trainable)"
      ],
      "metadata": {
        "id": "oLsivTj26Cn8"
      },
      "execution_count": null,
      "outputs": []
    },
    {
      "cell_type": "code",
      "source": [
        "lr = 0.001\n",
        "\n",
        "# opt = SGD(learning_rate=lr, momentum=0.9)\n",
        "opt = SGD(learning_rate=lr, decay=1e-6, momentum=0.9, nesterov=True)\n",
        "model.compile(loss='categorical_crossentropy', optimizer=opt, metrics=['accuracy'])\n",
        "# model.compile(optimizer='rmsprop', loss='categorical_crossentropy', metrics=['accuracy'])\n",
        "# model.compile(loss='categorical_crossentropy', optimizer=Adam(learning_rate=lr), metrics=['accuracy'])"
      ],
      "metadata": {
        "id": "TtejUggF6PQF"
      },
      "execution_count": null,
      "outputs": []
    },
    {
      "cell_type": "code",
      "source": [
        "# Запускаем обучение\n",
        "batch_size = 10\n",
        "history = model.fit(generate_data(batch_size),steps_per_epoch= 1000/batch_size, epochs=100)"
      ],
      "metadata": {
        "id": "6y1yakeCO4jr",
        "colab": {
          "base_uri": "https://localhost:8080/"
        },
        "outputId": "e4c58472-fdcc-4485-f5e9-0e91cc03c9f7"
      },
      "execution_count": null,
      "outputs": [
        {
          "output_type": "stream",
          "name": "stdout",
          "text": [
            "Epoch 1/100\n",
            "100/100 [==============================] - 22s 186ms/step - loss: 4.3942 - accuracy: 0.0180\n",
            "Epoch 2/100\n",
            "100/100 [==============================] - 19s 190ms/step - loss: 4.1103 - accuracy: 0.0200\n",
            "Epoch 3/100\n",
            "100/100 [==============================] - 19s 188ms/step - loss: 4.1058 - accuracy: 0.0160\n",
            "Epoch 4/100\n",
            "100/100 [==============================] - 19s 186ms/step - loss: 4.0972 - accuracy: 0.0140\n",
            "Epoch 5/100\n",
            "100/100 [==============================] - 19s 186ms/step - loss: 4.0943 - accuracy: 0.0200\n",
            "Epoch 6/100\n",
            "100/100 [==============================] - 19s 187ms/step - loss: 4.0958 - accuracy: 0.0210\n",
            "Epoch 7/100\n",
            "100/100 [==============================] - 19s 188ms/step - loss: 4.0960 - accuracy: 0.0140\n",
            "Epoch 8/100\n",
            "100/100 [==============================] - 19s 187ms/step - loss: 4.0961 - accuracy: 0.0190\n",
            "Epoch 9/100\n",
            "100/100 [==============================] - 19s 187ms/step - loss: 4.0938 - accuracy: 0.0260\n",
            "Epoch 10/100\n",
            "100/100 [==============================] - 19s 187ms/step - loss: 4.0958 - accuracy: 0.0230\n",
            "Epoch 11/100\n",
            "100/100 [==============================] - 19s 187ms/step - loss: 4.0964 - accuracy: 0.0170\n",
            "Epoch 12/100\n",
            "100/100 [==============================] - 19s 187ms/step - loss: 4.0960 - accuracy: 0.0140\n",
            "Epoch 13/100\n",
            "100/100 [==============================] - 19s 188ms/step - loss: 4.0946 - accuracy: 0.0200\n",
            "Epoch 14/100\n",
            "100/100 [==============================] - 19s 187ms/step - loss: 4.0957 - accuracy: 0.0140\n",
            "Epoch 15/100\n",
            "100/100 [==============================] - 19s 187ms/step - loss: 4.0941 - accuracy: 0.0160\n",
            "Epoch 16/100\n",
            "100/100 [==============================] - 18s 183ms/step - loss: 4.0953 - accuracy: 0.0190\n",
            "Epoch 17/100\n",
            "100/100 [==============================] - 18s 180ms/step - loss: 4.0938 - accuracy: 0.0080\n",
            "Epoch 18/100\n",
            "100/100 [==============================] - 18s 180ms/step - loss: 4.0947 - accuracy: 0.0130\n",
            "Epoch 19/100\n",
            "100/100 [==============================] - 18s 179ms/step - loss: 4.0952 - accuracy: 0.0140\n",
            "Epoch 20/100\n",
            "100/100 [==============================] - 18s 180ms/step - loss: 4.0945 - accuracy: 0.0140\n",
            "Epoch 21/100\n",
            "100/100 [==============================] - 18s 180ms/step - loss: 4.0947 - accuracy: 0.0190\n",
            "Epoch 22/100\n",
            "100/100 [==============================] - 18s 179ms/step - loss: 4.0941 - accuracy: 0.0190\n",
            "Epoch 23/100\n",
            "100/100 [==============================] - 18s 179ms/step - loss: 4.0941 - accuracy: 0.0200\n",
            "Epoch 24/100\n",
            "100/100 [==============================] - 18s 180ms/step - loss: 4.0948 - accuracy: 0.0080\n",
            "Epoch 25/100\n",
            "100/100 [==============================] - 18s 180ms/step - loss: 4.0941 - accuracy: 0.0210\n",
            "Epoch 26/100\n",
            "100/100 [==============================] - 18s 179ms/step - loss: 4.0941 - accuracy: 0.0210\n",
            "Epoch 27/100\n",
            "100/100 [==============================] - 18s 179ms/step - loss: 4.0946 - accuracy: 0.0140\n",
            "Epoch 28/100\n",
            "100/100 [==============================] - 18s 180ms/step - loss: 4.0943 - accuracy: 0.0190\n",
            "Epoch 29/100\n",
            "100/100 [==============================] - 18s 180ms/step - loss: 4.0947 - accuracy: 0.0190\n",
            "Epoch 30/100\n",
            "100/100 [==============================] - 18s 179ms/step - loss: 4.0952 - accuracy: 0.0140\n",
            "Epoch 31/100\n",
            "100/100 [==============================] - 18s 180ms/step - loss: 4.0946 - accuracy: 0.0150\n",
            "Epoch 32/100\n",
            "100/100 [==============================] - 18s 180ms/step - loss: 4.0945 - accuracy: 0.0190\n",
            "Epoch 33/100\n",
            "100/100 [==============================] - 18s 180ms/step - loss: 4.0944 - accuracy: 0.0110\n",
            "Epoch 34/100\n",
            "100/100 [==============================] - 18s 180ms/step - loss: 4.0953 - accuracy: 0.0130\n",
            "Epoch 35/100\n",
            "100/100 [==============================] - 18s 180ms/step - loss: 4.0947 - accuracy: 0.0140\n",
            "Epoch 36/100\n",
            "100/100 [==============================] - 18s 180ms/step - loss: 4.0950 - accuracy: 0.0180\n",
            "Epoch 37/100\n",
            "100/100 [==============================] - 18s 179ms/step - loss: 4.0947 - accuracy: 0.0170\n",
            "Epoch 38/100\n",
            "100/100 [==============================] - 18s 179ms/step - loss: 4.0942 - accuracy: 0.0210\n",
            "Epoch 39/100\n",
            "100/100 [==============================] - 18s 179ms/step - loss: 4.0942 - accuracy: 0.0220\n",
            "Epoch 40/100\n",
            "100/100 [==============================] - 18s 179ms/step - loss: 4.0944 - accuracy: 0.0170\n",
            "Epoch 41/100\n",
            "100/100 [==============================] - 18s 180ms/step - loss: 4.0940 - accuracy: 0.0120\n",
            "Epoch 42/100\n",
            "100/100 [==============================] - 18s 179ms/step - loss: 4.0939 - accuracy: 0.0170\n",
            "Epoch 43/100\n",
            "100/100 [==============================] - 18s 180ms/step - loss: 4.0943 - accuracy: 0.0140\n",
            "Epoch 44/100\n",
            "100/100 [==============================] - 18s 180ms/step - loss: 4.0941 - accuracy: 0.0200\n",
            "Epoch 45/100\n",
            "100/100 [==============================] - 18s 180ms/step - loss: 4.0949 - accuracy: 0.0150\n",
            "Epoch 46/100\n",
            "100/100 [==============================] - 18s 180ms/step - loss: 4.0951 - accuracy: 0.0110\n",
            "Epoch 47/100\n",
            "100/100 [==============================] - 18s 180ms/step - loss: 4.0937 - accuracy: 0.0230\n",
            "Epoch 48/100\n",
            "100/100 [==============================] - 18s 180ms/step - loss: 4.0947 - accuracy: 0.0210\n",
            "Epoch 49/100\n",
            "100/100 [==============================] - 18s 180ms/step - loss: 4.0938 - accuracy: 0.0120\n",
            "Epoch 50/100\n",
            "100/100 [==============================] - 18s 180ms/step - loss: 4.0947 - accuracy: 0.0090\n",
            "Epoch 51/100\n",
            "100/100 [==============================] - 18s 179ms/step - loss: 4.0951 - accuracy: 0.0200\n",
            "Epoch 52/100\n",
            "100/100 [==============================] - 18s 180ms/step - loss: 4.0939 - accuracy: 0.0200\n",
            "Epoch 53/100\n",
            "100/100 [==============================] - 18s 180ms/step - loss: 4.0952 - accuracy: 0.0120\n",
            "Epoch 54/100\n",
            "100/100 [==============================] - 18s 180ms/step - loss: 4.0948 - accuracy: 0.0160\n",
            "Epoch 55/100\n",
            "100/100 [==============================] - 18s 180ms/step - loss: 4.0936 - accuracy: 0.0200\n",
            "Epoch 56/100\n",
            "100/100 [==============================] - 18s 180ms/step - loss: 4.0940 - accuracy: 0.0180\n",
            "Epoch 57/100\n",
            "100/100 [==============================] - 18s 180ms/step - loss: 4.0940 - accuracy: 0.0210\n",
            "Epoch 58/100\n",
            "100/100 [==============================] - 18s 180ms/step - loss: 4.0949 - accuracy: 0.0160\n",
            "Epoch 59/100\n",
            "100/100 [==============================] - 18s 180ms/step - loss: 4.0944 - accuracy: 0.0160\n",
            "Epoch 60/100\n",
            "100/100 [==============================] - 18s 180ms/step - loss: 4.0957 - accuracy: 0.0120\n",
            "Epoch 61/100\n",
            "100/100 [==============================] - 18s 180ms/step - loss: 4.0937 - accuracy: 0.0220\n",
            "Epoch 62/100\n",
            "100/100 [==============================] - 18s 179ms/step - loss: 4.0938 - accuracy: 0.0190\n",
            "Epoch 63/100\n",
            "100/100 [==============================] - 18s 180ms/step - loss: 4.0930 - accuracy: 0.0180\n",
            "Epoch 64/100\n",
            "100/100 [==============================] - 18s 180ms/step - loss: 4.0938 - accuracy: 0.0150\n",
            "Epoch 65/100\n",
            "100/100 [==============================] - 18s 179ms/step - loss: 4.0940 - accuracy: 0.0210\n",
            "Epoch 66/100\n",
            "100/100 [==============================] - 18s 180ms/step - loss: 4.0933 - accuracy: 0.0170\n",
            "Epoch 67/100\n",
            "100/100 [==============================] - 18s 179ms/step - loss: 4.0953 - accuracy: 0.0260\n",
            "Epoch 68/100\n",
            "100/100 [==============================] - 18s 180ms/step - loss: 4.0933 - accuracy: 0.0200\n",
            "Epoch 69/100\n",
            "100/100 [==============================] - 18s 179ms/step - loss: 4.0932 - accuracy: 0.0250\n",
            "Epoch 70/100\n",
            "100/100 [==============================] - 18s 181ms/step - loss: 4.0951 - accuracy: 0.0080\n",
            "Epoch 71/100\n",
            "100/100 [==============================] - 18s 180ms/step - loss: 4.0953 - accuracy: 0.0180\n",
            "Epoch 72/100\n",
            "100/100 [==============================] - 18s 179ms/step - loss: 4.0944 - accuracy: 0.0210\n",
            "Epoch 73/100\n",
            "100/100 [==============================] - 18s 179ms/step - loss: 4.0945 - accuracy: 0.0160\n",
            "Epoch 74/100\n",
            "100/100 [==============================] - 18s 180ms/step - loss: 4.0943 - accuracy: 0.0150\n",
            "Epoch 75/100\n",
            "100/100 [==============================] - 18s 180ms/step - loss: 4.0947 - accuracy: 0.0250\n",
            "Epoch 76/100\n",
            "100/100 [==============================] - 18s 180ms/step - loss: 4.0948 - accuracy: 0.0130\n",
            "Epoch 77/100\n",
            "100/100 [==============================] - 18s 180ms/step - loss: 4.0945 - accuracy: 0.0160\n",
            "Epoch 78/100\n",
            "100/100 [==============================] - 18s 180ms/step - loss: 4.0943 - accuracy: 0.0120\n",
            "Epoch 79/100\n",
            "100/100 [==============================] - 18s 179ms/step - loss: 4.0940 - accuracy: 0.0130\n",
            "Epoch 80/100\n",
            "100/100 [==============================] - 18s 180ms/step - loss: 4.0938 - accuracy: 0.0190\n",
            "Epoch 81/100\n",
            "100/100 [==============================] - 18s 180ms/step - loss: 4.0949 - accuracy: 0.0170\n",
            "Epoch 82/100\n",
            "100/100 [==============================] - 18s 180ms/step - loss: 4.0954 - accuracy: 0.0190\n",
            "Epoch 83/100\n",
            "100/100 [==============================] - 18s 180ms/step - loss: 4.0938 - accuracy: 0.0230\n",
            "Epoch 84/100\n",
            "100/100 [==============================] - 18s 180ms/step - loss: 4.0951 - accuracy: 0.0140\n",
            "Epoch 85/100\n",
            "100/100 [==============================] - 18s 180ms/step - loss: 4.0953 - accuracy: 0.0180\n",
            "Epoch 86/100\n",
            "100/100 [==============================] - 18s 180ms/step - loss: 4.0938 - accuracy: 0.0190\n",
            "Epoch 87/100\n",
            "100/100 [==============================] - 18s 180ms/step - loss: 4.0946 - accuracy: 0.0090\n",
            "Epoch 88/100\n",
            "100/100 [==============================] - 18s 179ms/step - loss: 4.0939 - accuracy: 0.0190\n",
            "Epoch 89/100\n",
            "100/100 [==============================] - 18s 180ms/step - loss: 4.0948 - accuracy: 0.0180\n",
            "Epoch 90/100\n",
            "100/100 [==============================] - 18s 179ms/step - loss: 4.0948 - accuracy: 0.0160\n",
            "Epoch 91/100\n",
            "100/100 [==============================] - 18s 180ms/step - loss: 4.0955 - accuracy: 0.0110\n",
            "Epoch 92/100\n",
            "100/100 [==============================] - 18s 180ms/step - loss: 4.0953 - accuracy: 0.0160\n",
            "Epoch 93/100\n",
            "100/100 [==============================] - 18s 180ms/step - loss: 4.0959 - accuracy: 0.0170\n",
            "Epoch 94/100\n",
            "100/100 [==============================] - 18s 180ms/step - loss: 4.0954 - accuracy: 0.0160\n",
            "Epoch 95/100\n",
            "100/100 [==============================] - 18s 181ms/step - loss: 4.0953 - accuracy: 0.0150\n",
            "Epoch 96/100\n",
            "100/100 [==============================] - 18s 179ms/step - loss: 4.0940 - accuracy: 0.0170\n",
            "Epoch 97/100\n",
            " 75/100 [=====================>........] - ETA: 4s - loss: 4.0943 - accuracy: 0.0187"
          ]
        }
      ]
    },
    {
      "cell_type": "code",
      "metadata": {
        "id": "i_n4jXsEyvav",
        "colab": {
          "base_uri": "https://localhost:8080/",
          "height": 279
        },
        "outputId": "cc257dac-e939-4dcb-fe54-1dd48d1115b0"
      },
      "source": [
        "# График точности обучения\n",
        "plt.plot(history.history['accuracy'], label='Метрика accuracy')\n",
        "plt.xlabel('Эпоха обучения')\n",
        "plt.legend()\n",
        "plt.show()"
      ],
      "execution_count": null,
      "outputs": [
        {
          "output_type": "display_data",
          "data": {
            "text/plain": [
              "<Figure size 432x288 with 1 Axes>"
            ],
            "image/png": "[encoded data removed]"
          },
          "metadata": {
            "needs_background": "light"
          }
        }
      ]
    },
    {
      "cell_type": "code",
      "source": [
        "# Сохраняем модель\n",
        "model.save('base-model-CNN.h5')\n",
        "!ls"
      ],
      "metadata": {
        "colab": {
          "base_uri": "https://localhost:8080/"
        },
        "id": "tFJPhLp_OphV",
        "outputId": "461b3b15-fe97-4096-df2b-dab0b2620730"
      },
      "execution_count": null,
      "outputs": [
        {
          "output_type": "stream",
          "name": "stdout",
          "text": [
            "angles.npy\t\t\t\t README.md\n",
            "base-model-CNN.h5\t\t\t result.jpg\n",
            "feat.npy\t\t\t\t utils.py\n",
            "main.py\t\t\t\t\t Voltmeter-Blank.jpg\n",
            "Model_VGG16_as_features_extractor.ipynb  Voltmeter-NoNeedle.jpg\n",
            "__pycache__\t\t\t\t Voltmeter-Original.jpg\n"
          ]
        }
      ]
    },
    {
      "cell_type": "code",
      "source": [
        "# Дообучаем\n",
        "model = load_model('base-model-CNN.h5')\n",
        "# model = load_model('best-4-model-CNN.h5')\n",
        "\n",
        "lr = 0.001\n",
        "history_list = []\n",
        "\n",
        "# Определим коллбэки\n",
        "reduce_lr = ReduceLROnPlateau(monitor='accuracy', \n",
        "                              patience=10, \n",
        "                              verbose=1, \n",
        "                              factor=0.5, \n",
        "                              min_lr=0.000001)\n",
        "earlystopper = EarlyStopping(patience=15,\n",
        "                             verbose=1,\n",
        "                             monitor='accuracy',\n",
        "                             restore_best_weights=True)\n",
        "\n",
        "for N in range(1,5):\n",
        "\n",
        "  model.compile(loss='categorical_crossentropy', optimizer=Adam(learning_rate=lr), metrics=['accuracy'])\n",
        "  # model.compile(loss='categorical_crossentropy', optimizer=RMSprop(learning_rate=0.001), metrics=['accuracy'])\n",
        "\n",
        "\n",
        "  print('\\nТренировка: ', 'Best -', N)\n",
        "\n",
        "  batch_size = 5\n",
        "  history = model.fit(generate_data(batch_size),\n",
        "                      steps_per_epoch= 1000/batch_size,\n",
        "                      epochs=500,\n",
        "                      verbose=1,\n",
        "                      callbacks=[reduce_lr,earlystopper])\n",
        "\n",
        "  history_list.append(history)\n",
        "  \n",
        "  model.save('best-' + str(N) + '-' + 'model-CNN.h5' )\n"
      ],
      "metadata": {
        "colab": {
          "base_uri": "https://localhost:8080/"
        },
        "id": "DoKoRSw3_AzC",
        "outputId": "f0bd7b15-4e36-4974-939d-5a94a3ee11d7"
      },
      "execution_count": null,
      "outputs": [
        {
          "output_type": "stream",
          "name": "stdout",
          "text": [
            "\n",
            "Тренировка:  Best - 1\n",
            "Epoch 1/500\n",
            "200/200 [==============================] - 12s 56ms/step - loss: 3.4019 - accuracy: 0.0390 - lr: 0.0010\n",
            "Epoch 2/500\n",
            "200/200 [==============================] - 11s 54ms/step - loss: 3.4045 - accuracy: 0.0340 - lr: 0.0010\n",
            "Epoch 3/500\n",
            "200/200 [==============================] - 11s 54ms/step - loss: 3.4022 - accuracy: 0.0380 - lr: 0.0010\n",
            "Epoch 4/500\n",
            "200/200 [==============================] - 11s 55ms/step - loss: 3.4020 - accuracy: 0.0320 - lr: 0.0010\n",
            "Epoch 5/500\n",
            "200/200 [==============================] - 11s 55ms/step - loss: 3.4003 - accuracy: 0.0290 - lr: 0.0010\n",
            "Epoch 6/500\n",
            "200/200 [==============================] - 11s 55ms/step - loss: 3.4022 - accuracy: 0.0330 - lr: 0.0010\n",
            "Epoch 7/500\n",
            "200/200 [==============================] - 11s 55ms/step - loss: 3.4021 - accuracy: 0.0370 - lr: 0.0010\n",
            "Epoch 8/500\n",
            "200/200 [==============================] - 11s 56ms/step - loss: 3.4034 - accuracy: 0.0200 - lr: 0.0010\n",
            "Epoch 9/500\n",
            "200/200 [==============================] - 12s 58ms/step - loss: 3.4008 - accuracy: 0.0380 - lr: 0.0010\n",
            "Epoch 10/500\n",
            "200/200 [==============================] - 11s 56ms/step - loss: 3.3996 - accuracy: 0.0380 - lr: 0.0010\n",
            "Epoch 11/500\n",
            "200/200 [==============================] - ETA: 0s - loss: 3.4016 - accuracy: 0.0390\n",
            "Epoch 11: ReduceLROnPlateau reducing learning rate to 0.0005000000237487257.\n",
            "200/200 [==============================] - 11s 56ms/step - loss: 3.4016 - accuracy: 0.0390 - lr: 0.0010\n",
            "Epoch 12/500\n",
            "200/200 [==============================] - 11s 56ms/step - loss: 3.4042 - accuracy: 0.0290 - lr: 5.0000e-04\n",
            "Epoch 13/500\n",
            "200/200 [==============================] - 11s 57ms/step - loss: 3.4024 - accuracy: 0.0370 - lr: 5.0000e-04\n",
            "Epoch 14/500\n",
            "200/200 [==============================] - 11s 57ms/step - loss: 3.4006 - accuracy: 0.0320 - lr: 5.0000e-04\n",
            "Epoch 15/500\n",
            "200/200 [==============================] - 11s 57ms/step - loss: 3.4010 - accuracy: 0.0390 - lr: 5.0000e-04\n",
            "Epoch 16/500\n",
            "200/200 [==============================] - ETA: 0s - loss: 3.4022 - accuracy: 0.0330Restoring model weights from the end of the best epoch: 1.\n",
            "200/200 [==============================] - 11s 57ms/step - loss: 3.4022 - accuracy: 0.0330 - lr: 5.0000e-04\n",
            "Epoch 16: early stopping\n",
            "\n",
            "Тренировка:  Best - 2\n",
            "Epoch 1/500\n",
            "200/200 [==============================] - 13s 59ms/step - loss: 3.4025 - accuracy: 0.0310 - lr: 0.0010\n",
            "Epoch 2/500\n",
            "200/200 [==============================] - 11s 56ms/step - loss: 3.3998 - accuracy: 0.0300 - lr: 0.0010\n",
            "Epoch 3/500\n",
            "200/200 [==============================] - 11s 56ms/step - loss: 3.4055 - accuracy: 0.0280 - lr: 0.0010\n",
            "Epoch 4/500\n",
            "200/200 [==============================] - 11s 56ms/step - loss: 3.4020 - accuracy: 0.0280 - lr: 0.0010\n",
            "Epoch 5/500\n",
            "200/200 [==============================] - 11s 57ms/step - loss: 3.4027 - accuracy: 0.0270 - lr: 0.0010\n",
            "Epoch 6/500\n",
            "200/200 [==============================] - 12s 58ms/step - loss: 3.3999 - accuracy: 0.0340 - lr: 0.0010\n",
            "Epoch 7/500\n",
            "200/200 [==============================] - 11s 57ms/step - loss: 3.4007 - accuracy: 0.0340 - lr: 0.0010\n",
            "Epoch 8/500\n",
            "200/200 [==============================] - 12s 58ms/step - loss: 3.4010 - accuracy: 0.0370 - lr: 0.0010\n",
            "Epoch 9/500\n",
            "200/200 [==============================] - 11s 57ms/step - loss: 3.4014 - accuracy: 0.0210 - lr: 0.0010\n",
            "Epoch 10/500\n",
            "200/200 [==============================] - 11s 57ms/step - loss: 3.4014 - accuracy: 0.0360 - lr: 0.0010\n",
            "Epoch 11/500\n",
            "200/200 [==============================] - 12s 59ms/step - loss: 3.4036 - accuracy: 0.0310 - lr: 0.0010\n",
            "Epoch 12/500\n",
            "200/200 [==============================] - 11s 57ms/step - loss: 3.4015 - accuracy: 0.0350 - lr: 0.0010\n",
            "Epoch 13/500\n",
            "200/200 [==============================] - 12s 58ms/step - loss: 3.3991 - accuracy: 0.0410 - lr: 0.0010\n",
            "Epoch 14/500\n",
            "200/200 [==============================] - 11s 57ms/step - loss: 3.4041 - accuracy: 0.0340 - lr: 0.0010\n",
            "Epoch 15/500\n",
            "200/200 [==============================] - 11s 57ms/step - loss: 3.4001 - accuracy: 0.0350 - lr: 0.0010\n",
            "Epoch 16/500\n",
            "200/200 [==============================] - 11s 57ms/step - loss: 3.4021 - accuracy: 0.0360 - lr: 0.0010\n",
            "Epoch 17/500\n",
            "200/200 [==============================] - 11s 57ms/step - loss: 3.4035 - accuracy: 0.0320 - lr: 0.0010\n",
            "Epoch 18/500\n",
            "200/200 [==============================] - 11s 57ms/step - loss: 3.4012 - accuracy: 0.0310 - lr: 0.0010\n",
            "Epoch 19/500\n",
            "200/200 [==============================] - 12s 58ms/step - loss: 3.4020 - accuracy: 0.0340 - lr: 0.0010\n",
            "Epoch 20/500\n",
            "200/200 [==============================] - 11s 57ms/step - loss: 3.4025 - accuracy: 0.0360 - lr: 0.0010\n",
            "Epoch 21/500\n",
            "200/200 [==============================] - 12s 58ms/step - loss: 3.4039 - accuracy: 0.0340 - lr: 0.0010\n",
            "Epoch 22/500\n",
            "200/200 [==============================] - 12s 58ms/step - loss: 3.4009 - accuracy: 0.0400 - lr: 0.0010\n",
            "Epoch 23/500\n",
            "200/200 [==============================] - ETA: 0s - loss: 3.4018 - accuracy: 0.0230\n",
            "Epoch 23: ReduceLROnPlateau reducing learning rate to 0.0005000000237487257.\n",
            "200/200 [==============================] - 12s 58ms/step - loss: 3.4018 - accuracy: 0.0230 - lr: 0.0010\n",
            "Epoch 24/500\n",
            "200/200 [==============================] - 12s 58ms/step - loss: 3.4028 - accuracy: 0.0160 - lr: 5.0000e-04\n",
            "Epoch 25/500\n",
            "200/200 [==============================] - 11s 57ms/step - loss: 3.4020 - accuracy: 0.0290 - lr: 5.0000e-04\n",
            "Epoch 26/500\n",
            "200/200 [==============================] - 11s 57ms/step - loss: 3.4011 - accuracy: 0.0320 - lr: 5.0000e-04\n",
            "Epoch 27/500\n",
            "200/200 [==============================] - 11s 57ms/step - loss: 3.4012 - accuracy: 0.0290 - lr: 5.0000e-04\n",
            "Epoch 28/500\n",
            "200/200 [==============================] - ETA: 0s - loss: 3.4011 - accuracy: 0.0350Restoring model weights from the end of the best epoch: 13.\n",
            "200/200 [==============================] - 12s 58ms/step - loss: 3.4011 - accuracy: 0.0350 - lr: 5.0000e-04\n",
            "Epoch 28: early stopping\n",
            "\n",
            "Тренировка:  Best - 3\n",
            "Epoch 1/500\n",
            "200/200 [==============================] - 13s 59ms/step - loss: 3.3994 - accuracy: 0.0450 - lr: 0.0010\n",
            "Epoch 2/500\n",
            "200/200 [==============================] - 12s 58ms/step - loss: 3.4014 - accuracy: 0.0350 - lr: 0.0010\n",
            "Epoch 3/500\n",
            "200/200 [==============================] - 12s 58ms/step - loss: 3.4029 - accuracy: 0.0200 - lr: 0.0010\n",
            "Epoch 4/500\n",
            "200/200 [==============================] - 12s 59ms/step - loss: 3.4017 - accuracy: 0.0370 - lr: 0.0010\n",
            "Epoch 5/500\n",
            "200/200 [==============================] - 12s 58ms/step - loss: 3.4026 - accuracy: 0.0260 - lr: 0.0010\n",
            "Epoch 6/500\n",
            "200/200 [==============================] - 12s 58ms/step - loss: 3.4019 - accuracy: 0.0240 - lr: 0.0010\n",
            "Epoch 7/500\n",
            "200/200 [==============================] - 12s 58ms/step - loss: 3.4033 - accuracy: 0.0280 - lr: 0.0010\n",
            "Epoch 8/500\n",
            "200/200 [==============================] - 12s 58ms/step - loss: 3.4017 - accuracy: 0.0330 - lr: 0.0010\n",
            "Epoch 9/500\n",
            "200/200 [==============================] - 11s 57ms/step - loss: 3.4025 - accuracy: 0.0430 - lr: 0.0010\n",
            "Epoch 10/500\n",
            "200/200 [==============================] - 12s 58ms/step - loss: 3.4010 - accuracy: 0.0430 - lr: 0.0010\n",
            "Epoch 11/500\n",
            "200/200 [==============================] - ETA: 0s - loss: 3.4020 - accuracy: 0.0350\n",
            "Epoch 11: ReduceLROnPlateau reducing learning rate to 0.0005000000237487257.\n",
            "200/200 [==============================] - 12s 58ms/step - loss: 3.4020 - accuracy: 0.0350 - lr: 0.0010\n",
            "Epoch 12/500\n",
            "200/200 [==============================] - 11s 57ms/step - loss: 3.4014 - accuracy: 0.0330 - lr: 5.0000e-04\n",
            "Epoch 13/500\n",
            "200/200 [==============================] - 12s 58ms/step - loss: 3.4027 - accuracy: 0.0330 - lr: 5.0000e-04\n",
            "Epoch 14/500\n",
            "200/200 [==============================] - 12s 59ms/step - loss: 3.4008 - accuracy: 0.0410 - lr: 5.0000e-04\n",
            "Epoch 15/500\n",
            "200/200 [==============================] - 12s 58ms/step - loss: 3.4018 - accuracy: 0.0360 - lr: 5.0000e-04\n",
            "Epoch 16/500\n",
            "200/200 [==============================] - ETA: 0s - loss: 3.4018 - accuracy: 0.0290Restoring model weights from the end of the best epoch: 1.\n",
            "200/200 [==============================] - 12s 58ms/step - loss: 3.4018 - accuracy: 0.0290 - lr: 5.0000e-04\n",
            "Epoch 16: early stopping\n",
            "\n",
            "Тренировка:  Best - 4\n",
            "Epoch 1/500\n",
            "200/200 [==============================] - 13s 60ms/step - loss: 3.4019 - accuracy: 0.0260 - lr: 0.0010\n",
            "Epoch 2/500\n",
            "200/200 [==============================] - 12s 59ms/step - loss: 3.4000 - accuracy: 0.0350 - lr: 0.0010\n",
            "Epoch 3/500\n",
            "200/200 [==============================] - 12s 59ms/step - loss: 3.4043 - accuracy: 0.0380 - lr: 0.0010\n",
            "Epoch 4/500\n",
            "200/200 [==============================] - 12s 58ms/step - loss: 3.4046 - accuracy: 0.0300 - lr: 0.0010\n",
            "Epoch 5/500\n",
            "200/200 [==============================] - 12s 58ms/step - loss: 3.4019 - accuracy: 0.0340 - lr: 0.0010\n",
            "Epoch 6/500\n",
            "200/200 [==============================] - 12s 58ms/step - loss: 3.4022 - accuracy: 0.0290 - lr: 0.0010\n",
            "Epoch 7/500\n",
            "200/200 [==============================] - 12s 58ms/step - loss: 3.4012 - accuracy: 0.0370 - lr: 0.0010\n",
            "Epoch 8/500\n",
            "200/200 [==============================] - 12s 59ms/step - loss: 3.3999 - accuracy: 0.0450 - lr: 0.0010\n",
            "Epoch 9/500\n",
            "200/200 [==============================] - 12s 58ms/step - loss: 3.4028 - accuracy: 0.0390 - lr: 0.0010\n",
            "Epoch 10/500\n",
            "200/200 [==============================] - 12s 58ms/step - loss: 3.4020 - accuracy: 0.0340 - lr: 0.0010\n",
            "Epoch 11/500\n",
            "200/200 [==============================] - 12s 58ms/step - loss: 3.4009 - accuracy: 0.0390 - lr: 0.0010\n",
            "Epoch 12/500\n",
            "200/200 [==============================] - 12s 58ms/step - loss: 3.4034 - accuracy: 0.0310 - lr: 0.0010\n",
            "Epoch 13/500\n",
            "200/200 [==============================] - 12s 58ms/step - loss: 3.3990 - accuracy: 0.0450 - lr: 0.0010\n",
            "Epoch 14/500\n",
            "200/200 [==============================] - 12s 58ms/step - loss: 3.4022 - accuracy: 0.0400 - lr: 0.0010\n",
            "Epoch 15/500\n",
            "200/200 [==============================] - 12s 58ms/step - loss: 3.4011 - accuracy: 0.0380 - lr: 0.0010\n",
            "Epoch 16/500\n",
            "200/200 [==============================] - 12s 58ms/step - loss: 3.4031 - accuracy: 0.0260 - lr: 0.0010\n",
            "Epoch 17/500\n",
            "200/200 [==============================] - 12s 58ms/step - loss: 3.4035 - accuracy: 0.0190 - lr: 0.0010\n",
            "Epoch 18/500\n",
            "200/200 [==============================] - ETA: 0s - loss: 3.4019 - accuracy: 0.0330\n",
            "Epoch 18: ReduceLROnPlateau reducing learning rate to 0.0005000000237487257.\n",
            "200/200 [==============================] - 12s 59ms/step - loss: 3.4019 - accuracy: 0.0330 - lr: 0.0010\n",
            "Epoch 19/500\n",
            "200/200 [==============================] - 12s 58ms/step - loss: 3.4012 - accuracy: 0.0380 - lr: 5.0000e-04\n",
            "Epoch 20/500\n",
            "200/200 [==============================] - 12s 58ms/step - loss: 3.4009 - accuracy: 0.0380 - lr: 5.0000e-04\n",
            "Epoch 21/500\n",
            "200/200 [==============================] - 12s 58ms/step - loss: 3.4029 - accuracy: 0.0260 - lr: 5.0000e-04\n",
            "Epoch 22/500\n",
            "200/200 [==============================] - 12s 58ms/step - loss: 3.4020 - accuracy: 0.0360 - lr: 5.0000e-04\n",
            "Epoch 23/500\n",
            "200/200 [==============================] - ETA: 0s - loss: 3.4022 - accuracy: 0.0360Restoring model weights from the end of the best epoch: 8.\n",
            "200/200 [==============================] - 12s 58ms/step - loss: 3.4022 - accuracy: 0.0360 - lr: 5.0000e-04\n",
            "Epoch 23: early stopping\n"
          ]
        }
      ]
    },
    {
      "cell_type": "code",
      "source": [
        "#Отображаем график точности в процессе обучения\n",
        "history_mae = []\n",
        "for N in range(4):\n",
        "  history_mae += history_list[N].history['accuracy']\n",
        "\n",
        "plt.figure(figsize=(16,5))\n",
        "plt.plot(history_mae, \n",
        "         label='accuracy')\n",
        "plt.xlabel('Эпоха обучения')\n",
        "plt.ylabel('Метрики')\n",
        "plt.legend()\n",
        "plt.show()"
      ],
      "metadata": {
        "colab": {
          "base_uri": "https://localhost:8080/",
          "height": 334
        },
        "id": "8YiI5bwY_5sg",
        "outputId": "cf641149-4e37-4202-8f41-198e0dd12630"
      },
      "execution_count": null,
      "outputs": [
        {
          "output_type": "display_data",
          "data": {
            "text/plain": [
              "<Figure size 1152x360 with 1 Axes>"
            ],
            "image/png": "[encoded data removed]"
          },
          "metadata": {
            "needs_background": "light"
          }
        }
      ]
    },
    {
      "cell_type": "markdown",
      "source": [
        "**Посмотрим предикт**"
      ],
      "metadata": {
        "id": "fBJdqhE46DKY"
      }
    },
    {
      "cell_type": "code",
      "source": [
        "# model = load_model('base-model-CNN.h5')\n",
        "img = cv.imread('Voltmeter-Blank.jpg')\n",
        "L, angle_0, angle_1 = u.gauge_needle_preparing(img)\n",
        "\n",
        "N = 10\n",
        "# fig, axs = plt.subplots(1, N, figsize=(18, 5))\n",
        "for i in range(N):\n",
        "  curr_img, curr_r = u.get_random_measurement(img, L, angle_0, angle_1)\n",
        "  # подготовим изображение для отправки в модель\n",
        "  img_to_pred = np.array(curr_img)\n",
        "  # img_to_pred = cv.resize(img_to_pred, (224, 224), cv.INTER_LINEAR)\n",
        "  img_to_pred = img_to_pred / 255. \n",
        "  img_to_pred = np.expand_dims(img_to_pred, axis = 0)\n",
        "  pred = np.argmax(model.predict(img_to_pred)[0])\n",
        "  print(\"Значение: {:.2f}, предикт {:.2f}\".format(curr_r, np.argmax(pred[0]))\n",
        "  \n"
      ],
      "metadata": {
        "colab": {
          "base_uri": "https://localhost:8080/"
        },
        "id": "p4g65kpW6I06",
        "outputId": "77f3d2bb-3cb1-406d-b9dc-1263cbb64641"
      },
      "execution_count": null,
      "outputs": [
        {
          "output_type": "stream",
          "name": "stdout",
          "text": [
            "Значение: 0.77, предикт -3.38\n",
            "Значение: 0.53, предикт -3.62\n",
            "Значение: 0.64, предикт -1.64\n",
            "Значение: 0.45, предикт -1.08\n",
            "Значение: 0.46, предикт -0.86\n",
            "Значение: 0.18, предикт -2.76\n",
            "Значение: 0.74, предикт -3.19\n",
            "Значение: 0.48, предикт -4.59\n",
            "Значение: 0.54, предикт -4.48\n",
            "Значение: 0.85, предикт -5.20\n"
          ]
        }
      ]
    },
    {
      "cell_type": "code",
      "source": [
        "# \n",
        "img = cv.imread('Voltmeter-Blank.jpg')\n",
        "L, angle_0, angle_1 = u.gauge_needle_preparing(img)\n",
        "\n",
        "N = 5\n",
        "fig, axs = plt.subplots(2, N, figsize=(18, 5))\n",
        "for i in range(N):\n",
        "  curr_img, curr_r = u.get_random_measurement(img.copy(), L, angle_0, angle_1)\n",
        "  angle_r = angle_0 + curr_r * (angle_1 - angle_0)\n",
        "\n",
        "  # получаем предикт\n",
        "  res_img, res_r = u.get_pred(feat_extractor, feat_np, angles, curr_img.copy(), L, angle_0, angle_1)\n",
        "  \n",
        "  # пересчитаем радианы в вольты\n",
        "  curr_V = int(300 * curr_r)\n",
        "  res_V = int(300 * res_r)\n",
        "\n",
        "  axs[0,i].imshow(curr_img)\n",
        "  axs[0,i].set_title(curr_V)\n",
        "  axs[1,i].imshow(res_img)\n",
        "  axs[1,i].set_title(res_V)\n",
        "\n",
        "plt.show() "
      ],
      "metadata": {
        "colab": {
          "base_uri": "https://localhost:8080/"
        },
        "id": "pNNYZyPC_57e",
        "outputId": "e3c3cba7-4277-4883-b1e8-a19fd444e4bd"
      },
      "execution_count": null,
      "outputs": [
        {
          "output_type": "execute_result",
          "data": {
            "text/plain": [
              "True"
            ]
          },
          "metadata": {},
          "execution_count": 20
        }
      ]
    }
  ]
}